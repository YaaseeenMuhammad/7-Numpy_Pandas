{
  "nbformat": 4,
  "nbformat_minor": 0,
  "metadata": {
    "colab": {
      "provenance": [],
      "collapsed_sections": [
        "yu3FAwajd0Ax",
        "aTpfffSKe0Q6",
        "FUD-NpDzgXtq",
        "5uORtHTdhii7",
        "Yv_KlibKimlb",
        "3m4JSGEPjwKj",
        "cyrmGqAfkNij"
      ]
    },
    "kernelspec": {
      "name": "python3",
      "display_name": "Python 3"
    },
    "language_info": {
      "name": "python"
    }
  },
  "cells": [
    {
      "cell_type": "code",
      "execution_count": 10,
      "metadata": {
        "id": "jDuwOdzWc2eq"
      },
      "outputs": [],
      "source": [
        "# Importing the Numpy\n",
        "import numpy as np"
      ]
    },
    {
      "cell_type": "markdown",
      "source": [
        "# Exercise 1:\n",
        "Create a numpy array containing the numbers from 1 to 10, and then reshape it to a 2x5 matrix."
      ],
      "metadata": {
        "id": "yu3FAwajd0Ax"
      }
    },
    {
      "cell_type": "code",
      "source": [
        "# Creating a numpy array from 1 to 10\n",
        "a = np.arange(1, 11)\n",
        "a\n",
        "# Reshaping it into a 2x5 matrix\n",
        "reshaped_a = a.reshape(2, 5)\n",
        "\n",
        "print(reshaped_a)\n",
        "print('Dimension of res-abc:', reshaped_a.ndim)\n",
        "print('Shape of res_abc:', reshaped_a.shape)"
      ],
      "metadata": {
        "colab": {
          "base_uri": "https://localhost:8080/"
        },
        "id": "FWTuM80NdlPa",
        "outputId": "37a5c653-af90-4b8b-b4a9-f2f541e45967"
      },
      "execution_count": 9,
      "outputs": [
        {
          "output_type": "stream",
          "name": "stdout",
          "text": [
            "[[ 1  2  3  4  5]\n",
            " [ 6  7  8  9 10]]\n",
            "Dimension of res-abc: 2\n",
            "Shape of res_abc: (2, 5)\n"
          ]
        }
      ]
    },
    {
      "cell_type": "markdown",
      "source": [
        "# Exercise 2:\n",
        "Create a numpy array containing the numbers from 1 to 20, and then extract the elements between the 5th and 15th index.\n"
      ],
      "metadata": {
        "id": "aTpfffSKe0Q6"
      }
    },
    {
      "cell_type": "code",
      "source": [
        "# Creating a numpy array from 1 to 20\n",
        "b = np.arange(1, 21)\n",
        "\n",
        "# Extracting elements from index 5 to 15\n",
        "extracted = b[5:16]\n",
        "print('The numpy array from 1 to 20: ',b)\n",
        "print('The extracted element from the numpy array from the index 5 to 15: ',extracted)\n"
      ],
      "metadata": {
        "colab": {
          "base_uri": "https://localhost:8080/"
        },
        "id": "rAoaHJz7e6sh",
        "outputId": "22c4ace0-3c37-4bb3-aee8-825878bb35ff"
      },
      "execution_count": 20,
      "outputs": [
        {
          "output_type": "stream",
          "name": "stdout",
          "text": [
            "The numpy array from 1 to 20:  [ 1  2  3  4  5  6  7  8  9 10 11 12 13 14 15 16 17 18 19 20]\n",
            "The extracted element from the numpy array from the index 5 to 15:  [ 6  7  8  9 10 11 12 13 14 15 16]\n"
          ]
        }
      ]
    },
    {
      "cell_type": "markdown",
      "source": [
        "# Exercise 3:\n",
        "Create a Pandas series with the following data: {'apples': 3, 'bananas': 2, 'oranges': 1}. Then, add a new item to the series with the key 'pears' and the value 4.\n"
      ],
      "metadata": {
        "id": "FUD-NpDzgXtq"
      }
    },
    {
      "cell_type": "code",
      "source": [
        "# Importing the pandas\n",
        "import pandas as pd"
      ],
      "metadata": {
        "id": "zZ7Eea-fgcly"
      },
      "execution_count": 21,
      "outputs": []
    },
    {
      "cell_type": "code",
      "source": [
        "# Creating the initial Pandas series\n",
        "fruits = pd.Series({'apples': 3, 'bananas': 2, 'oranges': 1})\n",
        "# Adding a new item 'pears' with value 4\n",
        "fruits['pears'] = 4\n",
        "print('The list of fruits are:\\n', fruits)"
      ],
      "metadata": {
        "colab": {
          "base_uri": "https://localhost:8080/"
        },
        "id": "9iWxwJ7zguKa",
        "outputId": "4a814892-7114-4560-df20-3c74f3b2483c"
      },
      "execution_count": 37,
      "outputs": [
        {
          "output_type": "stream",
          "name": "stdout",
          "text": [
            "The list of fruits are:\n",
            " apples     3\n",
            "bananas    2\n",
            "oranges    1\n",
            "pears      4\n",
            "dtype: int64\n"
          ]
        }
      ]
    },
    {
      "cell_type": "markdown",
      "source": [
        "# Exercise 4:\n",
        "Create a dataframe with the following columns: name, age, and gender. The dataframe should have 10 rows of data.\n"
      ],
      "metadata": {
        "id": "5uORtHTdhii7"
      }
    },
    {
      "cell_type": "code",
      "source": [
        "# Creating a dataframe with name, age, and gender columns\n",
        "a = {\n",
        "    'name': ['Ram', 'Seeta', 'Rahman', 'Joseph', 'Messi', 'Anna', 'Tony', 'Latheef', 'James', 'Empuran'],\n",
        "    'age': [20, 18, 23, 44, 34, 55, 12, 45, 40, 40],\n",
        "    'gender': ['Male', 'Female', 'Male', 'Male', 'Male', 'Female', 'Male', 'Male', 'Male', 'Other']\n",
        "}\n",
        "\n",
        "Data = pd.DataFrame(a)\n",
        "\n",
        "print('The output is:\\n', Data)\n"
      ],
      "metadata": {
        "colab": {
          "base_uri": "https://localhost:8080/"
        },
        "id": "Hz-F4skVhorT",
        "outputId": "95896d78-248b-4f12-c0f5-98b0f4aed623"
      },
      "execution_count": 32,
      "outputs": [
        {
          "output_type": "stream",
          "name": "stdout",
          "text": [
            "The output is:\n",
            "       name  age  gender\n",
            "0      Ram   20    Male\n",
            "1    Seeta   18  Female\n",
            "2   Rahman   23    Male\n",
            "3   Joseph   44    Male\n",
            "4    Messi   34    Male\n",
            "5     Anna   55  Female\n",
            "6     Tony   12    Male\n",
            "7  Latheef   45    Male\n",
            "8    James   40    Male\n",
            "9  Empuran   40   Other\n"
          ]
        }
      ]
    },
    {
      "cell_type": "markdown",
      "source": [
        "# Exercise 5:\n",
        "Add a new column to the data frame created in question 1, called occupation. The values for this column should be Programmer, Manager, and Analyst, corresponding to the rows in the dataframe.\n"
      ],
      "metadata": {
        "id": "Yv_KlibKimlb"
      }
    },
    {
      "cell_type": "code",
      "source": [
        "# Add a new 'occupation' column\n",
        "Data['occupation'] = ['Programmer', 'Manager', 'Analyst', 'Programmer', 'Manager',\n",
        "                     'Analyst', 'Programmer', 'Manager', 'Analyst', 'Programmer']\n",
        "\n",
        "print('The Output is:\\n',Data)\n"
      ],
      "metadata": {
        "colab": {
          "base_uri": "https://localhost:8080/"
        },
        "id": "15fW2NkYitty",
        "outputId": "fd6c1e04-09ce-40a4-b558-1c95a2a2e755"
      },
      "execution_count": 31,
      "outputs": [
        {
          "output_type": "stream",
          "name": "stdout",
          "text": [
            "The Output is:\n",
            "       name  age  gender  occupation\n",
            "0      Ram   20    Male  Programmer\n",
            "1    Seeta   18  Female     Manager\n",
            "2   Rahman   23    Male     Analyst\n",
            "3   Joseph   44    Male  Programmer\n",
            "4    Messi   34    Male     Manager\n",
            "5     Anna   55  Female     Analyst\n",
            "6     Tony   12    Male  Programmer\n",
            "7  Latheef   45    Male     Manager\n",
            "8    James   40    Male     Analyst\n",
            "9  Empuran   40   Other  Programmer\n"
          ]
        }
      ]
    },
    {
      "cell_type": "markdown",
      "source": [
        "# Exercise 6:\n",
        "Select the rows of the dataframe where the age is greater than or equal to 30.\n"
      ],
      "metadata": {
        "id": "3m4JSGEPjwKj"
      }
    },
    {
      "cell_type": "code",
      "source": [
        "# Filtering rows where the age is >= 30\n",
        "Data_age_30 = Data[Data['age'] >= 30]\n",
        "\n",
        "print(Data_age_30)\n"
      ],
      "metadata": {
        "colab": {
          "base_uri": "https://localhost:8080/"
        },
        "id": "TZ-xg13pj4GL",
        "outputId": "1c38b378-cdaf-4603-ea65-340cc6821e10"
      },
      "execution_count": 38,
      "outputs": [
        {
          "output_type": "stream",
          "name": "stdout",
          "text": [
            "      name  age  gender\n",
            "3   Joseph   44    Male\n",
            "4    Messi   34    Male\n",
            "5     Anna   55  Female\n",
            "7  Latheef   45    Male\n",
            "8    James   40    Male\n",
            "9  Empuran   40   Other\n"
          ]
        }
      ]
    },
    {
      "cell_type": "markdown",
      "source": [
        "# Exercise 7:\n",
        "Convert this dataframe to a csv file and read that csv file, finally display the contents.\n"
      ],
      "metadata": {
        "id": "cyrmGqAfkNij"
      }
    },
    {
      "cell_type": "code",
      "source": [
        "# Converting the dataframe to a CSV file\n",
        "Data.to_csv('data.csv', index=False)\n",
        "\n",
        "# Reading the CSV file\n",
        "Data_from_csv = pd.read_csv('data.csv')\n",
        "\n",
        "# Displaying the contents\n",
        "print('The Data from the .csv file is:\\n', Data_from_csv)\n"
      ],
      "metadata": {
        "colab": {
          "base_uri": "https://localhost:8080/"
        },
        "id": "MvbNNTYvkRVT",
        "outputId": "5cc1bf42-e6f2-4545-d843-d2f859c53968"
      },
      "execution_count": 39,
      "outputs": [
        {
          "output_type": "stream",
          "name": "stdout",
          "text": [
            "The Data from the .csv file is:\n",
            "       name  age  gender\n",
            "0      Ram   20    Male\n",
            "1    Seeta   18  Female\n",
            "2   Rahman   23    Male\n",
            "3   Joseph   44    Male\n",
            "4    Messi   34    Male\n",
            "5     Anna   55  Female\n",
            "6     Tony   12    Male\n",
            "7  Latheef   45    Male\n",
            "8    James   40    Male\n",
            "9  Empuran   40   Other\n"
          ]
        }
      ]
    }
  ]
}